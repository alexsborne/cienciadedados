{
  "nbformat": 4,
  "nbformat_minor": 0,
  "metadata": {
    "colab": {
      "provenance": []
    },
    "kernelspec": {
      "name": "python3",
      "display_name": "Python 3"
    },
    "language_info": {
      "name": "python"
    }
  },
  "cells": [
    {
      "cell_type": "code",
      "execution_count": null,
      "metadata": {
        "id": "7LXp7syNKnuT"
      },
      "outputs": [],
      "source": [
        "import os\n",
        "import numpy as np\n",
        "import pandas as pd\n",
        "import seaborn as sns\n",
        "import matplotlib.pyplot as plt\n",
        "\n",
        "import plotly.express as px\n",
        "from sklearn.preprocessing import PowerTransformer, StandardScaler, scale\n",
        "from google.colab import files"
      ]
    },
    {
      "cell_type": "code",
      "source": [
        "df = pd.read_csv('/content/2019-Nov (2).csv')"
      ],
      "metadata": {
        "id": "EWVZQY5sLM7I"
      },
      "execution_count": null,
      "outputs": []
    },
    {
      "cell_type": "code",
      "source": [
        "df.head()"
      ],
      "metadata": {
        "colab": {
          "base_uri": "https://localhost:8080/",
          "height": 206
        },
        "id": "FNGb7w6MLcKP",
        "outputId": "96add67f-4180-4586-a7bf-2a107e122f38"
      },
      "execution_count": null,
      "outputs": [
        {
          "output_type": "execute_result",
          "data": {
            "text/plain": [
              "                event_time        event_type  product_id          category_id  \\\n",
              "0  2019-11-01 00:00:02 UTC              view     5802432  1487580009286598681   \n",
              "1  2019-11-01 00:00:09 UTC              cart     5844397  1487580006317032337   \n",
              "2  2019-11-01 00:00:10 UTC              view     5837166  1783999064103190764   \n",
              "3  2019-11-01 00:00:11 UTC              cart     5876812  1487580010100293687   \n",
              "4  2019-11-01 00:00:24 UTC  remove_from_cart     5826182  1487580007483048900   \n",
              "\n",
              "  category_code     brand  price    user_id  \\\n",
              "0           NaN       NaN   0.32  562076640   \n",
              "1           NaN       NaN   2.38  553329724   \n",
              "2           NaN       pnb  22.22  556138645   \n",
              "3           NaN  jessnail   3.16  564506666   \n",
              "4           NaN       NaN   3.33  553329724   \n",
              "\n",
              "                           user_session  \n",
              "0  09fafd6c-6c99-46b1-834f-33527f4de241  \n",
              "1  2067216c-31b5-455d-a1cc-af0575a34ffb  \n",
              "2  57ed222e-a54a-4907-9944-5a875c2d7f4f  \n",
              "3  186c1951-8052-4b37-adce-dd9644b1d5f7  \n",
              "4  2067216c-31b5-455d-a1cc-af0575a34ffb  "
            ],
            "text/html": [
              "\n",
              "  <div id=\"df-247fd004-2920-495a-bdb0-f668627fbb35\">\n",
              "    <div class=\"colab-df-container\">\n",
              "      <div>\n",
              "<style scoped>\n",
              "    .dataframe tbody tr th:only-of-type {\n",
              "        vertical-align: middle;\n",
              "    }\n",
              "\n",
              "    .dataframe tbody tr th {\n",
              "        vertical-align: top;\n",
              "    }\n",
              "\n",
              "    .dataframe thead th {\n",
              "        text-align: right;\n",
              "    }\n",
              "</style>\n",
              "<table border=\"1\" class=\"dataframe\">\n",
              "  <thead>\n",
              "    <tr style=\"text-align: right;\">\n",
              "      <th></th>\n",
              "      <th>event_time</th>\n",
              "      <th>event_type</th>\n",
              "      <th>product_id</th>\n",
              "      <th>category_id</th>\n",
              "      <th>category_code</th>\n",
              "      <th>brand</th>\n",
              "      <th>price</th>\n",
              "      <th>user_id</th>\n",
              "      <th>user_session</th>\n",
              "    </tr>\n",
              "  </thead>\n",
              "  <tbody>\n",
              "    <tr>\n",
              "      <th>0</th>\n",
              "      <td>2019-11-01 00:00:02 UTC</td>\n",
              "      <td>view</td>\n",
              "      <td>5802432</td>\n",
              "      <td>1487580009286598681</td>\n",
              "      <td>NaN</td>\n",
              "      <td>NaN</td>\n",
              "      <td>0.32</td>\n",
              "      <td>562076640</td>\n",
              "      <td>09fafd6c-6c99-46b1-834f-33527f4de241</td>\n",
              "    </tr>\n",
              "    <tr>\n",
              "      <th>1</th>\n",
              "      <td>2019-11-01 00:00:09 UTC</td>\n",
              "      <td>cart</td>\n",
              "      <td>5844397</td>\n",
              "      <td>1487580006317032337</td>\n",
              "      <td>NaN</td>\n",
              "      <td>NaN</td>\n",
              "      <td>2.38</td>\n",
              "      <td>553329724</td>\n",
              "      <td>2067216c-31b5-455d-a1cc-af0575a34ffb</td>\n",
              "    </tr>\n",
              "    <tr>\n",
              "      <th>2</th>\n",
              "      <td>2019-11-01 00:00:10 UTC</td>\n",
              "      <td>view</td>\n",
              "      <td>5837166</td>\n",
              "      <td>1783999064103190764</td>\n",
              "      <td>NaN</td>\n",
              "      <td>pnb</td>\n",
              "      <td>22.22</td>\n",
              "      <td>556138645</td>\n",
              "      <td>57ed222e-a54a-4907-9944-5a875c2d7f4f</td>\n",
              "    </tr>\n",
              "    <tr>\n",
              "      <th>3</th>\n",
              "      <td>2019-11-01 00:00:11 UTC</td>\n",
              "      <td>cart</td>\n",
              "      <td>5876812</td>\n",
              "      <td>1487580010100293687</td>\n",
              "      <td>NaN</td>\n",
              "      <td>jessnail</td>\n",
              "      <td>3.16</td>\n",
              "      <td>564506666</td>\n",
              "      <td>186c1951-8052-4b37-adce-dd9644b1d5f7</td>\n",
              "    </tr>\n",
              "    <tr>\n",
              "      <th>4</th>\n",
              "      <td>2019-11-01 00:00:24 UTC</td>\n",
              "      <td>remove_from_cart</td>\n",
              "      <td>5826182</td>\n",
              "      <td>1487580007483048900</td>\n",
              "      <td>NaN</td>\n",
              "      <td>NaN</td>\n",
              "      <td>3.33</td>\n",
              "      <td>553329724</td>\n",
              "      <td>2067216c-31b5-455d-a1cc-af0575a34ffb</td>\n",
              "    </tr>\n",
              "  </tbody>\n",
              "</table>\n",
              "</div>\n",
              "      <button class=\"colab-df-convert\" onclick=\"convertToInteractive('df-247fd004-2920-495a-bdb0-f668627fbb35')\"\n",
              "              title=\"Convert this dataframe to an interactive table.\"\n",
              "              style=\"display:none;\">\n",
              "        \n",
              "  <svg xmlns=\"http://www.w3.org/2000/svg\" height=\"24px\"viewBox=\"0 0 24 24\"\n",
              "       width=\"24px\">\n",
              "    <path d=\"M0 0h24v24H0V0z\" fill=\"none\"/>\n",
              "    <path d=\"M18.56 5.44l.94 2.06.94-2.06 2.06-.94-2.06-.94-.94-2.06-.94 2.06-2.06.94zm-11 1L8.5 8.5l.94-2.06 2.06-.94-2.06-.94L8.5 2.5l-.94 2.06-2.06.94zm10 10l.94 2.06.94-2.06 2.06-.94-2.06-.94-.94-2.06-.94 2.06-2.06.94z\"/><path d=\"M17.41 7.96l-1.37-1.37c-.4-.4-.92-.59-1.43-.59-.52 0-1.04.2-1.43.59L10.3 9.45l-7.72 7.72c-.78.78-.78 2.05 0 2.83L4 21.41c.39.39.9.59 1.41.59.51 0 1.02-.2 1.41-.59l7.78-7.78 2.81-2.81c.8-.78.8-2.07 0-2.86zM5.41 20L4 18.59l7.72-7.72 1.47 1.35L5.41 20z\"/>\n",
              "  </svg>\n",
              "      </button>\n",
              "      \n",
              "  <style>\n",
              "    .colab-df-container {\n",
              "      display:flex;\n",
              "      flex-wrap:wrap;\n",
              "      gap: 12px;\n",
              "    }\n",
              "\n",
              "    .colab-df-convert {\n",
              "      background-color: #E8F0FE;\n",
              "      border: none;\n",
              "      border-radius: 50%;\n",
              "      cursor: pointer;\n",
              "      display: none;\n",
              "      fill: #1967D2;\n",
              "      height: 32px;\n",
              "      padding: 0 0 0 0;\n",
              "      width: 32px;\n",
              "    }\n",
              "\n",
              "    .colab-df-convert:hover {\n",
              "      background-color: #E2EBFA;\n",
              "      box-shadow: 0px 1px 2px rgba(60, 64, 67, 0.3), 0px 1px 3px 1px rgba(60, 64, 67, 0.15);\n",
              "      fill: #174EA6;\n",
              "    }\n",
              "\n",
              "    [theme=dark] .colab-df-convert {\n",
              "      background-color: #3B4455;\n",
              "      fill: #D2E3FC;\n",
              "    }\n",
              "\n",
              "    [theme=dark] .colab-df-convert:hover {\n",
              "      background-color: #434B5C;\n",
              "      box-shadow: 0px 1px 3px 1px rgba(0, 0, 0, 0.15);\n",
              "      filter: drop-shadow(0px 1px 2px rgba(0, 0, 0, 0.3));\n",
              "      fill: #FFFFFF;\n",
              "    }\n",
              "  </style>\n",
              "\n",
              "      <script>\n",
              "        const buttonEl =\n",
              "          document.querySelector('#df-247fd004-2920-495a-bdb0-f668627fbb35 button.colab-df-convert');\n",
              "        buttonEl.style.display =\n",
              "          google.colab.kernel.accessAllowed ? 'block' : 'none';\n",
              "\n",
              "        async function convertToInteractive(key) {\n",
              "          const element = document.querySelector('#df-247fd004-2920-495a-bdb0-f668627fbb35');\n",
              "          const dataTable =\n",
              "            await google.colab.kernel.invokeFunction('convertToInteractive',\n",
              "                                                     [key], {});\n",
              "          if (!dataTable) return;\n",
              "\n",
              "          const docLinkHtml = 'Like what you see? Visit the ' +\n",
              "            '<a target=\"_blank\" href=https://colab.research.google.com/notebooks/data_table.ipynb>data table notebook</a>'\n",
              "            + ' to learn more about interactive tables.';\n",
              "          element.innerHTML = '';\n",
              "          dataTable['output_type'] = 'display_data';\n",
              "          await google.colab.output.renderOutput(dataTable, element);\n",
              "          const docLink = document.createElement('div');\n",
              "          docLink.innerHTML = docLinkHtml;\n",
              "          element.appendChild(docLink);\n",
              "        }\n",
              "      </script>\n",
              "    </div>\n",
              "  </div>\n",
              "  "
            ]
          },
          "metadata": {},
          "execution_count": 42
        }
      ]
    },
    {
      "cell_type": "markdown",
      "source": [
        "#Verificar estatísticas do dataset"
      ],
      "metadata": {
        "id": "AEqb5ThpMmUB"
      }
    },
    {
      "cell_type": "code",
      "source": [
        "#estatisticas do codigo\n",
        "df.describe()"
      ],
      "metadata": {
        "colab": {
          "base_uri": "https://localhost:8080/",
          "height": 300
        },
        "id": "22xsX4DPM6OJ",
        "outputId": "e88f0f6b-be84-45bf-b605-aef11379092b"
      },
      "execution_count": null,
      "outputs": [
        {
          "output_type": "execute_result",
          "data": {
            "text/plain": [
              "         product_id   category_id         price       user_id\n",
              "count  2.503437e+06  2.503437e+06  2.503437e+06  2.503437e+06\n",
              "mean   5.468821e+06  1.547591e+18  8.512506e+00  5.050761e+08\n",
              "std    1.320402e+06  1.614590e+17  1.951236e+01  8.459426e+07\n",
              "min    3.752000e+03  1.487580e+18 -7.937000e+01  1.120748e+06\n",
              "25%    5.711108e+06  1.487580e+18  2.060000e+00  4.692921e+08\n",
              "50%    5.809856e+06  1.487580e+18  3.970000e+00  5.411466e+08\n",
              "75%    5.854578e+06  1.487580e+18  6.830000e+00  5.668597e+08\n",
              "max    5.906122e+06  2.195085e+18  3.076000e+02  5.734638e+08"
            ],
            "text/html": [
              "\n",
              "  <div id=\"df-a4336437-9846-40fb-a3fa-30740169795e\">\n",
              "    <div class=\"colab-df-container\">\n",
              "      <div>\n",
              "<style scoped>\n",
              "    .dataframe tbody tr th:only-of-type {\n",
              "        vertical-align: middle;\n",
              "    }\n",
              "\n",
              "    .dataframe tbody tr th {\n",
              "        vertical-align: top;\n",
              "    }\n",
              "\n",
              "    .dataframe thead th {\n",
              "        text-align: right;\n",
              "    }\n",
              "</style>\n",
              "<table border=\"1\" class=\"dataframe\">\n",
              "  <thead>\n",
              "    <tr style=\"text-align: right;\">\n",
              "      <th></th>\n",
              "      <th>product_id</th>\n",
              "      <th>category_id</th>\n",
              "      <th>price</th>\n",
              "      <th>user_id</th>\n",
              "    </tr>\n",
              "  </thead>\n",
              "  <tbody>\n",
              "    <tr>\n",
              "      <th>count</th>\n",
              "      <td>2.503437e+06</td>\n",
              "      <td>2.503437e+06</td>\n",
              "      <td>2.503437e+06</td>\n",
              "      <td>2.503437e+06</td>\n",
              "    </tr>\n",
              "    <tr>\n",
              "      <th>mean</th>\n",
              "      <td>5.468821e+06</td>\n",
              "      <td>1.547591e+18</td>\n",
              "      <td>8.512506e+00</td>\n",
              "      <td>5.050761e+08</td>\n",
              "    </tr>\n",
              "    <tr>\n",
              "      <th>std</th>\n",
              "      <td>1.320402e+06</td>\n",
              "      <td>1.614590e+17</td>\n",
              "      <td>1.951236e+01</td>\n",
              "      <td>8.459426e+07</td>\n",
              "    </tr>\n",
              "    <tr>\n",
              "      <th>min</th>\n",
              "      <td>3.752000e+03</td>\n",
              "      <td>1.487580e+18</td>\n",
              "      <td>-7.937000e+01</td>\n",
              "      <td>1.120748e+06</td>\n",
              "    </tr>\n",
              "    <tr>\n",
              "      <th>25%</th>\n",
              "      <td>5.711108e+06</td>\n",
              "      <td>1.487580e+18</td>\n",
              "      <td>2.060000e+00</td>\n",
              "      <td>4.692921e+08</td>\n",
              "    </tr>\n",
              "    <tr>\n",
              "      <th>50%</th>\n",
              "      <td>5.809856e+06</td>\n",
              "      <td>1.487580e+18</td>\n",
              "      <td>3.970000e+00</td>\n",
              "      <td>5.411466e+08</td>\n",
              "    </tr>\n",
              "    <tr>\n",
              "      <th>75%</th>\n",
              "      <td>5.854578e+06</td>\n",
              "      <td>1.487580e+18</td>\n",
              "      <td>6.830000e+00</td>\n",
              "      <td>5.668597e+08</td>\n",
              "    </tr>\n",
              "    <tr>\n",
              "      <th>max</th>\n",
              "      <td>5.906122e+06</td>\n",
              "      <td>2.195085e+18</td>\n",
              "      <td>3.076000e+02</td>\n",
              "      <td>5.734638e+08</td>\n",
              "    </tr>\n",
              "  </tbody>\n",
              "</table>\n",
              "</div>\n",
              "      <button class=\"colab-df-convert\" onclick=\"convertToInteractive('df-a4336437-9846-40fb-a3fa-30740169795e')\"\n",
              "              title=\"Convert this dataframe to an interactive table.\"\n",
              "              style=\"display:none;\">\n",
              "        \n",
              "  <svg xmlns=\"http://www.w3.org/2000/svg\" height=\"24px\"viewBox=\"0 0 24 24\"\n",
              "       width=\"24px\">\n",
              "    <path d=\"M0 0h24v24H0V0z\" fill=\"none\"/>\n",
              "    <path d=\"M18.56 5.44l.94 2.06.94-2.06 2.06-.94-2.06-.94-.94-2.06-.94 2.06-2.06.94zm-11 1L8.5 8.5l.94-2.06 2.06-.94-2.06-.94L8.5 2.5l-.94 2.06-2.06.94zm10 10l.94 2.06.94-2.06 2.06-.94-2.06-.94-.94-2.06-.94 2.06-2.06.94z\"/><path d=\"M17.41 7.96l-1.37-1.37c-.4-.4-.92-.59-1.43-.59-.52 0-1.04.2-1.43.59L10.3 9.45l-7.72 7.72c-.78.78-.78 2.05 0 2.83L4 21.41c.39.39.9.59 1.41.59.51 0 1.02-.2 1.41-.59l7.78-7.78 2.81-2.81c.8-.78.8-2.07 0-2.86zM5.41 20L4 18.59l7.72-7.72 1.47 1.35L5.41 20z\"/>\n",
              "  </svg>\n",
              "      </button>\n",
              "      \n",
              "  <style>\n",
              "    .colab-df-container {\n",
              "      display:flex;\n",
              "      flex-wrap:wrap;\n",
              "      gap: 12px;\n",
              "    }\n",
              "\n",
              "    .colab-df-convert {\n",
              "      background-color: #E8F0FE;\n",
              "      border: none;\n",
              "      border-radius: 50%;\n",
              "      cursor: pointer;\n",
              "      display: none;\n",
              "      fill: #1967D2;\n",
              "      height: 32px;\n",
              "      padding: 0 0 0 0;\n",
              "      width: 32px;\n",
              "    }\n",
              "\n",
              "    .colab-df-convert:hover {\n",
              "      background-color: #E2EBFA;\n",
              "      box-shadow: 0px 1px 2px rgba(60, 64, 67, 0.3), 0px 1px 3px 1px rgba(60, 64, 67, 0.15);\n",
              "      fill: #174EA6;\n",
              "    }\n",
              "\n",
              "    [theme=dark] .colab-df-convert {\n",
              "      background-color: #3B4455;\n",
              "      fill: #D2E3FC;\n",
              "    }\n",
              "\n",
              "    [theme=dark] .colab-df-convert:hover {\n",
              "      background-color: #434B5C;\n",
              "      box-shadow: 0px 1px 3px 1px rgba(0, 0, 0, 0.15);\n",
              "      filter: drop-shadow(0px 1px 2px rgba(0, 0, 0, 0.3));\n",
              "      fill: #FFFFFF;\n",
              "    }\n",
              "  </style>\n",
              "\n",
              "      <script>\n",
              "        const buttonEl =\n",
              "          document.querySelector('#df-a4336437-9846-40fb-a3fa-30740169795e button.colab-df-convert');\n",
              "        buttonEl.style.display =\n",
              "          google.colab.kernel.accessAllowed ? 'block' : 'none';\n",
              "\n",
              "        async function convertToInteractive(key) {\n",
              "          const element = document.querySelector('#df-a4336437-9846-40fb-a3fa-30740169795e');\n",
              "          const dataTable =\n",
              "            await google.colab.kernel.invokeFunction('convertToInteractive',\n",
              "                                                     [key], {});\n",
              "          if (!dataTable) return;\n",
              "\n",
              "          const docLinkHtml = 'Like what you see? Visit the ' +\n",
              "            '<a target=\"_blank\" href=https://colab.research.google.com/notebooks/data_table.ipynb>data table notebook</a>'\n",
              "            + ' to learn more about interactive tables.';\n",
              "          element.innerHTML = '';\n",
              "          dataTable['output_type'] = 'display_data';\n",
              "          await google.colab.output.renderOutput(dataTable, element);\n",
              "          const docLink = document.createElement('div');\n",
              "          docLink.innerHTML = docLinkHtml;\n",
              "          element.appendChild(docLink);\n",
              "        }\n",
              "      </script>\n",
              "    </div>\n",
              "  </div>\n",
              "  "
            ]
          },
          "metadata": {},
          "execution_count": 43
        }
      ]
    },
    {
      "cell_type": "code",
      "source": [
        "df.shape"
      ],
      "metadata": {
        "colab": {
          "base_uri": "https://localhost:8080/"
        },
        "id": "_0HY79YuLvxo",
        "outputId": "4adb67dd-049e-4d3c-9990-3fcf9c2eccd5"
      },
      "execution_count": null,
      "outputs": [
        {
          "output_type": "execute_result",
          "data": {
            "text/plain": [
              "(2503437, 9)"
            ]
          },
          "metadata": {},
          "execution_count": 44
        }
      ]
    },
    {
      "cell_type": "code",
      "source": [
        "df.duplicated().sum()\n",
        "print (df.duplicated(subset=None).any())"
      ],
      "metadata": {
        "colab": {
          "base_uri": "https://localhost:8080/"
        },
        "id": "UtNm0ROaNkDO",
        "outputId": "04ec2adf-0353-4f0b-ee17-9e22e1cb4bd6"
      },
      "execution_count": null,
      "outputs": [
        {
          "output_type": "stream",
          "name": "stdout",
          "text": [
            "True\n"
          ]
        }
      ]
    },
    {
      "cell_type": "code",
      "source": [
        "df.groupby(by=['user_session', 'event_type', 'product_id', 'event_time'])['user_session'].count().sort_values(ascending=False)"
      ],
      "metadata": {
        "colab": {
          "base_uri": "https://localhost:8080/"
        },
        "id": "gC2SlFGlOQmt",
        "outputId": "a0e4f74d-5345-438d-efed-ae109d5ddd92"
      },
      "execution_count": null,
      "outputs": [
        {
          "output_type": "execute_result",
          "data": {
            "text/plain": [
              "user_session                          event_type        product_id  event_time             \n",
              "1d2c4867-d62b-4326-beeb-ee17c0d1b825  remove_from_cart  5758984     2019-11-15 14:08:23 UTC    20\n",
              "018ee332-436a-44fe-96fc-c5318c5e2d5a  remove_from_cart  5773392     2019-11-08 15:18:56 UTC    19\n",
              "f0e2ae04-7ee3-4244-9ce5-ced188608371  cart              5310        2019-11-12 17:49:12 UTC    17\n",
              "544c668b-28d3-40d7-9c3d-61dfeec08509  cart              5685678     2019-11-04 11:32:17 UTC    17\n",
              "07989261-7478-4c32-a63e-ad4f3bfa8dee  remove_from_cart  5764301     2019-11-13 18:42:30 UTC    15\n",
              "                                                                                               ..\n",
              "57d3394e-ea20-4f29-8375-3cd8ef16a412  cart              5846446     2019-11-06 14:07:13 UTC     1\n",
              "                                                        5774328     2019-11-06 14:26:25 UTC     1\n",
              "                                                        5668003     2019-11-06 14:25:56 UTC     1\n",
              "                                                        37047       2019-11-06 14:25:41 UTC     1\n",
              "ffffbe0a-d2c2-47c7-afab-680bfdfda50d  view              5528034     2019-11-02 11:47:34 UTC     1\n",
              "Name: user_session, Length: 2371636, dtype: int64"
            ]
          },
          "metadata": {},
          "execution_count": 46
        }
      ]
    },
    {
      "cell_type": "code",
      "source": [
        "print(df.shape)\n",
        "df.drop_duplicates(subset=['user_session', \n",
        "                           'event_type', \n",
        "                           'product_id', \n",
        "                           'event_time'], inplace=True)"
      ],
      "metadata": {
        "colab": {
          "base_uri": "https://localhost:8080/"
        },
        "id": "9w8NUcsrQuOS",
        "outputId": "0c636db7-788c-4860-f2c0-2c4000630d45"
      },
      "execution_count": null,
      "outputs": [
        {
          "output_type": "stream",
          "name": "stdout",
          "text": [
            "(2503437, 9)\n"
          ]
        }
      ]
    },
    {
      "cell_type": "code",
      "source": [
        "print(df.shape) #apos retirar as duplicadas\n",
        "(df.groupby(by=['user_session', \n",
        "               'event_type', \n",
        "               'product_id', \n",
        "               'event_time'])['user_session']\n",
        " .count().sort_values(ascending=False))"
      ],
      "metadata": {
        "colab": {
          "base_uri": "https://localhost:8080/"
        },
        "id": "ymaRpubuRYlX",
        "outputId": "f9f4f9f3-e071-425a-d1b1-4cea35ea4bca"
      },
      "execution_count": null,
      "outputs": [
        {
          "output_type": "stream",
          "name": "stdout",
          "text": [
            "(2372117, 9)\n"
          ]
        },
        {
          "output_type": "execute_result",
          "data": {
            "text/plain": [
              "user_session                          event_type        product_id  event_time             \n",
              "00000dd2-0f5d-4fc9-9d6b-2fc8c7514b04  view              5829298     2019-11-05 07:57:05 UTC    1\n",
              "ab250281-288d-46a2-ae1b-d397a32ffbd3  cart              5899827     2019-11-11 16:27:03 UTC    1\n",
              "ab23e14c-59cb-4b71-9242-9c294cacb811  view              5886558     2019-11-08 15:05:56 UTC    1\n",
              "ab240cb8-3c1f-4ed6-a225-bd408f4c4553  view              5696306     2019-11-12 09:20:06 UTC    1\n",
              "ab2444f6-0753-46e2-8c8d-7818e052cfa6  cart              5815660     2019-11-07 09:52:40 UTC    1\n",
              "                                                                                              ..\n",
              "55a40348-2c04-468b-ac9d-6336a06fd944  cart              5835327     2019-11-04 07:59:15 UTC    1\n",
              "                                                        5866421     2019-11-04 08:27:38 UTC    1\n",
              "                                      remove_from_cart  6736        2019-11-06 12:16:29 UTC    1\n",
              "                                                        13534       2019-11-04 08:20:24 UTC    1\n",
              "ffffbe0a-d2c2-47c7-afab-680bfdfda50d  view              5528034     2019-11-02 11:47:34 UTC    1\n",
              "Name: user_session, Length: 2371636, dtype: int64"
            ]
          },
          "metadata": {},
          "execution_count": 51
        }
      ]
    },
    {
      "cell_type": "markdown",
      "source": [
        "#Etapa 3\n"
      ],
      "metadata": {
        "id": "otyCDq1hUgpn"
      }
    },
    {
      "cell_type": "code",
      "source": [
        "df['event_time'] = df['event_time'].astype('datetime64')"
      ],
      "metadata": {
        "id": "Ihujy35JTKYW"
      },
      "execution_count": null,
      "outputs": []
    },
    {
      "cell_type": "code",
      "source": [
        "df.info()"
      ],
      "metadata": {
        "colab": {
          "base_uri": "https://localhost:8080/"
        },
        "id": "WGfiT9GjUAgn",
        "outputId": "ef77aead-b0fb-4543-a449-b4435c1ecba8"
      },
      "execution_count": null,
      "outputs": [
        {
          "output_type": "stream",
          "name": "stdout",
          "text": [
            "<class 'pandas.core.frame.DataFrame'>\n",
            "Int64Index: 2372117 entries, 0 to 2503436\n",
            "Data columns (total 9 columns):\n",
            " #   Column         Dtype         \n",
            "---  ------         -----         \n",
            " 0   event_time     datetime64[ns]\n",
            " 1   event_type     object        \n",
            " 2   product_id     int64         \n",
            " 3   category_id    int64         \n",
            " 4   category_code  object        \n",
            " 5   brand          object        \n",
            " 6   price          float64       \n",
            " 7   user_id        int64         \n",
            " 8   user_session   object        \n",
            "dtypes: datetime64[ns](1), float64(1), int64(3), object(4)\n",
            "memory usage: 181.0+ MB\n"
          ]
        }
      ]
    },
    {
      "cell_type": "markdown",
      "source": [
        "#Etapa 4"
      ],
      "metadata": {
        "id": "h1KlFAVaUoPm"
      }
    },
    {
      "cell_type": "code",
      "source": [
        "percentiles = [0.01, 0.1, 0.25, 0.50, 0.75, 0.9, 0.99]\n",
        "df.describe(include = 'number', percentiles = percentiles)"
      ],
      "metadata": {
        "colab": {
          "base_uri": "https://localhost:8080/",
          "height": 425
        },
        "id": "41hq4bYsUWX7",
        "outputId": "c6694706-0e95-497e-b5d5-17d9fb8968d7"
      },
      "execution_count": null,
      "outputs": [
        {
          "output_type": "execute_result",
          "data": {
            "text/plain": [
              "         product_id   category_id         price       user_id        price_\n",
              "count  2.372117e+06  2.372117e+06  2.372117e+06  2.372117e+06  2.372117e+06\n",
              "mean   5.466093e+06  1.547854e+18  8.720087e+00  5.054443e+08  5.377826e+00\n",
              "std    1.326080e+06  1.618198e+17  1.991104e+01  8.493018e+07  4.383681e+00\n",
              "min    3.752000e+03  1.487580e+18 -7.937000e+01  1.120748e+06 -5.560000e+00\n",
              "1%     4.958000e+03  1.487580e+18  3.200000e-01  2.308260e+08  3.200000e-01\n",
              "10%    5.582546e+06  1.487580e+18  9.500000e-01  3.892639e+08  9.500000e-01\n",
              "25%    5.711117e+06  1.487580e+18  2.060000e+00  4.695064e+08  2.060000e+00\n",
              "50%    5.809861e+06  1.487580e+18  3.970000e+00  5.420895e+08  3.970000e+00\n",
              "75%    5.854808e+06  1.487580e+18  7.140000e+00  5.670272e+08  7.140000e+00\n",
              "90%    5.883100e+06  1.783999e+18  1.571000e+01  5.702643e+08  1.476000e+01\n",
              "99%    5.900879e+06  2.151191e+18  9.840000e+01  5.730435e+08  1.476000e+01\n",
              "max    5.906122e+06  2.195085e+18  3.076000e+02  5.734638e+08  1.476000e+01"
            ],
            "text/html": [
              "\n",
              "  <div id=\"df-01e8276a-bb95-46b6-904a-0acea829bd62\">\n",
              "    <div class=\"colab-df-container\">\n",
              "      <div>\n",
              "<style scoped>\n",
              "    .dataframe tbody tr th:only-of-type {\n",
              "        vertical-align: middle;\n",
              "    }\n",
              "\n",
              "    .dataframe tbody tr th {\n",
              "        vertical-align: top;\n",
              "    }\n",
              "\n",
              "    .dataframe thead th {\n",
              "        text-align: right;\n",
              "    }\n",
              "</style>\n",
              "<table border=\"1\" class=\"dataframe\">\n",
              "  <thead>\n",
              "    <tr style=\"text-align: right;\">\n",
              "      <th></th>\n",
              "      <th>product_id</th>\n",
              "      <th>category_id</th>\n",
              "      <th>price</th>\n",
              "      <th>user_id</th>\n",
              "      <th>price_</th>\n",
              "    </tr>\n",
              "  </thead>\n",
              "  <tbody>\n",
              "    <tr>\n",
              "      <th>count</th>\n",
              "      <td>2.372117e+06</td>\n",
              "      <td>2.372117e+06</td>\n",
              "      <td>2.372117e+06</td>\n",
              "      <td>2.372117e+06</td>\n",
              "      <td>2.372117e+06</td>\n",
              "    </tr>\n",
              "    <tr>\n",
              "      <th>mean</th>\n",
              "      <td>5.466093e+06</td>\n",
              "      <td>1.547854e+18</td>\n",
              "      <td>8.720087e+00</td>\n",
              "      <td>5.054443e+08</td>\n",
              "      <td>5.377826e+00</td>\n",
              "    </tr>\n",
              "    <tr>\n",
              "      <th>std</th>\n",
              "      <td>1.326080e+06</td>\n",
              "      <td>1.618198e+17</td>\n",
              "      <td>1.991104e+01</td>\n",
              "      <td>8.493018e+07</td>\n",
              "      <td>4.383681e+00</td>\n",
              "    </tr>\n",
              "    <tr>\n",
              "      <th>min</th>\n",
              "      <td>3.752000e+03</td>\n",
              "      <td>1.487580e+18</td>\n",
              "      <td>-7.937000e+01</td>\n",
              "      <td>1.120748e+06</td>\n",
              "      <td>-5.560000e+00</td>\n",
              "    </tr>\n",
              "    <tr>\n",
              "      <th>1%</th>\n",
              "      <td>4.958000e+03</td>\n",
              "      <td>1.487580e+18</td>\n",
              "      <td>3.200000e-01</td>\n",
              "      <td>2.308260e+08</td>\n",
              "      <td>3.200000e-01</td>\n",
              "    </tr>\n",
              "    <tr>\n",
              "      <th>10%</th>\n",
              "      <td>5.582546e+06</td>\n",
              "      <td>1.487580e+18</td>\n",
              "      <td>9.500000e-01</td>\n",
              "      <td>3.892639e+08</td>\n",
              "      <td>9.500000e-01</td>\n",
              "    </tr>\n",
              "    <tr>\n",
              "      <th>25%</th>\n",
              "      <td>5.711117e+06</td>\n",
              "      <td>1.487580e+18</td>\n",
              "      <td>2.060000e+00</td>\n",
              "      <td>4.695064e+08</td>\n",
              "      <td>2.060000e+00</td>\n",
              "    </tr>\n",
              "    <tr>\n",
              "      <th>50%</th>\n",
              "      <td>5.809861e+06</td>\n",
              "      <td>1.487580e+18</td>\n",
              "      <td>3.970000e+00</td>\n",
              "      <td>5.420895e+08</td>\n",
              "      <td>3.970000e+00</td>\n",
              "    </tr>\n",
              "    <tr>\n",
              "      <th>75%</th>\n",
              "      <td>5.854808e+06</td>\n",
              "      <td>1.487580e+18</td>\n",
              "      <td>7.140000e+00</td>\n",
              "      <td>5.670272e+08</td>\n",
              "      <td>7.140000e+00</td>\n",
              "    </tr>\n",
              "    <tr>\n",
              "      <th>90%</th>\n",
              "      <td>5.883100e+06</td>\n",
              "      <td>1.783999e+18</td>\n",
              "      <td>1.571000e+01</td>\n",
              "      <td>5.702643e+08</td>\n",
              "      <td>1.476000e+01</td>\n",
              "    </tr>\n",
              "    <tr>\n",
              "      <th>99%</th>\n",
              "      <td>5.900879e+06</td>\n",
              "      <td>2.151191e+18</td>\n",
              "      <td>9.840000e+01</td>\n",
              "      <td>5.730435e+08</td>\n",
              "      <td>1.476000e+01</td>\n",
              "    </tr>\n",
              "    <tr>\n",
              "      <th>max</th>\n",
              "      <td>5.906122e+06</td>\n",
              "      <td>2.195085e+18</td>\n",
              "      <td>3.076000e+02</td>\n",
              "      <td>5.734638e+08</td>\n",
              "      <td>1.476000e+01</td>\n",
              "    </tr>\n",
              "  </tbody>\n",
              "</table>\n",
              "</div>\n",
              "      <button class=\"colab-df-convert\" onclick=\"convertToInteractive('df-01e8276a-bb95-46b6-904a-0acea829bd62')\"\n",
              "              title=\"Convert this dataframe to an interactive table.\"\n",
              "              style=\"display:none;\">\n",
              "        \n",
              "  <svg xmlns=\"http://www.w3.org/2000/svg\" height=\"24px\"viewBox=\"0 0 24 24\"\n",
              "       width=\"24px\">\n",
              "    <path d=\"M0 0h24v24H0V0z\" fill=\"none\"/>\n",
              "    <path d=\"M18.56 5.44l.94 2.06.94-2.06 2.06-.94-2.06-.94-.94-2.06-.94 2.06-2.06.94zm-11 1L8.5 8.5l.94-2.06 2.06-.94-2.06-.94L8.5 2.5l-.94 2.06-2.06.94zm10 10l.94 2.06.94-2.06 2.06-.94-2.06-.94-.94-2.06-.94 2.06-2.06.94z\"/><path d=\"M17.41 7.96l-1.37-1.37c-.4-.4-.92-.59-1.43-.59-.52 0-1.04.2-1.43.59L10.3 9.45l-7.72 7.72c-.78.78-.78 2.05 0 2.83L4 21.41c.39.39.9.59 1.41.59.51 0 1.02-.2 1.41-.59l7.78-7.78 2.81-2.81c.8-.78.8-2.07 0-2.86zM5.41 20L4 18.59l7.72-7.72 1.47 1.35L5.41 20z\"/>\n",
              "  </svg>\n",
              "      </button>\n",
              "      \n",
              "  <style>\n",
              "    .colab-df-container {\n",
              "      display:flex;\n",
              "      flex-wrap:wrap;\n",
              "      gap: 12px;\n",
              "    }\n",
              "\n",
              "    .colab-df-convert {\n",
              "      background-color: #E8F0FE;\n",
              "      border: none;\n",
              "      border-radius: 50%;\n",
              "      cursor: pointer;\n",
              "      display: none;\n",
              "      fill: #1967D2;\n",
              "      height: 32px;\n",
              "      padding: 0 0 0 0;\n",
              "      width: 32px;\n",
              "    }\n",
              "\n",
              "    .colab-df-convert:hover {\n",
              "      background-color: #E2EBFA;\n",
              "      box-shadow: 0px 1px 2px rgba(60, 64, 67, 0.3), 0px 1px 3px 1px rgba(60, 64, 67, 0.15);\n",
              "      fill: #174EA6;\n",
              "    }\n",
              "\n",
              "    [theme=dark] .colab-df-convert {\n",
              "      background-color: #3B4455;\n",
              "      fill: #D2E3FC;\n",
              "    }\n",
              "\n",
              "    [theme=dark] .colab-df-convert:hover {\n",
              "      background-color: #434B5C;\n",
              "      box-shadow: 0px 1px 3px 1px rgba(0, 0, 0, 0.15);\n",
              "      filter: drop-shadow(0px 1px 2px rgba(0, 0, 0, 0.3));\n",
              "      fill: #FFFFFF;\n",
              "    }\n",
              "  </style>\n",
              "\n",
              "      <script>\n",
              "        const buttonEl =\n",
              "          document.querySelector('#df-01e8276a-bb95-46b6-904a-0acea829bd62 button.colab-df-convert');\n",
              "        buttonEl.style.display =\n",
              "          google.colab.kernel.accessAllowed ? 'block' : 'none';\n",
              "\n",
              "        async function convertToInteractive(key) {\n",
              "          const element = document.querySelector('#df-01e8276a-bb95-46b6-904a-0acea829bd62');\n",
              "          const dataTable =\n",
              "            await google.colab.kernel.invokeFunction('convertToInteractive',\n",
              "                                                     [key], {});\n",
              "          if (!dataTable) return;\n",
              "\n",
              "          const docLinkHtml = 'Like what you see? Visit the ' +\n",
              "            '<a target=\"_blank\" href=https://colab.research.google.com/notebooks/data_table.ipynb>data table notebook</a>'\n",
              "            + ' to learn more about interactive tables.';\n",
              "          element.innerHTML = '';\n",
              "          dataTable['output_type'] = 'display_data';\n",
              "          await google.colab.output.renderOutput(dataTable, element);\n",
              "          const docLink = document.createElement('div');\n",
              "          docLink.innerHTML = docLinkHtml;\n",
              "          element.appendChild(docLink);\n",
              "        }\n",
              "      </script>\n",
              "    </div>\n",
              "  </div>\n",
              "  "
            ]
          },
          "metadata": {},
          "execution_count": 57
        }
      ]
    },
    {
      "cell_type": "code",
      "source": [
        "# complete\n",
        "q1 = df['price'].quantile(0.25)\n",
        "q3 = df['price'].quantile(0.75)\n",
        "iqr = q3 - q1\n",
        "\n",
        "df['price_'] = df['price'].clip(lower=q1 - 1.5*iqr, upper=q3 + 1.5*iqr)"
      ],
      "metadata": {
        "id": "mr3toWtmVyPe"
      },
      "execution_count": null,
      "outputs": []
    },
    {
      "cell_type": "markdown",
      "source": [
        "# Etapa 5"
      ],
      "metadata": {
        "id": "ZHpOcFATYa1w"
      }
    },
    {
      "cell_type": "code",
      "source": [
        "df.event_type.isna().value_counts() "
      ],
      "metadata": {
        "colab": {
          "base_uri": "https://localhost:8080/"
        },
        "id": "qLpMd5wqYdu7",
        "outputId": "227d68f7-0612-44d6-b4f0-2df0254fe03b"
      },
      "execution_count": null,
      "outputs": [
        {
          "output_type": "execute_result",
          "data": {
            "text/plain": [
              "False    2372117\n",
              "Name: event_type, dtype: int64"
            ]
          },
          "metadata": {},
          "execution_count": 74
        }
      ]
    },
    {
      "cell_type": "code",
      "source": [
        "x = df['event_type'].value_counts().index\n",
        "y = df['event_type'].value_counts()"
      ],
      "metadata": {
        "id": "tCUAeLoqZXX9"
      },
      "execution_count": null,
      "outputs": []
    },
    {
      "cell_type": "code",
      "source": [
        " sns.barplot(x = x, y = y, saturation= 0.7, order=[ 'view','cart' , 'remove_from_cart', 'purchase'])"
      ],
      "metadata": {
        "colab": {
          "base_uri": "https://localhost:8080/",
          "height": 463
        },
        "id": "BeD9QIxHZChU",
        "outputId": "1fbf4e36-4ad3-4d7a-9de2-12a17b3441d1"
      },
      "execution_count": null,
      "outputs": [
        {
          "output_type": "execute_result",
          "data": {
            "text/plain": [
              "<Axes: ylabel='event_type'>"
            ]
          },
          "metadata": {},
          "execution_count": 91
        },
        {
          "output_type": "display_data",
          "data": {
            "text/plain": [
              "<Figure size 640x480 with 1 Axes>"
            ],
            "image/png": "[encoded data removed]"
          },
          "metadata": {}
        }
      ]
    },
    {
      "cell_type": "code",
      "source": [
        "def custom_plot(df, x='product_category_name', y='price', title=None, **kwargs):\n",
        "  \"\"\"Plots target-variable box-plot and target-variable by chosen category\"\"\"\n",
        "  fig, axes = plt.subplots(nrows=2, ncols=1, figsize=(24, 16))\n",
        "  sns.boxplot(data=df, y=y, ax=axes[0], flierprops=dict(marker='o', markerfacecolor='None'), **kwargs)\n",
        "  sns.boxplot(data=df, x=x, y=y, ax=axes[1], flierprops=dict(marker='o', markerfacecolor='None'), **kwargs)\n",
        "  axes[0].set_title(title, weight='bold', size='x-large')\n",
        "  axes[1].set_title(title + f' (by {x})', weight='bold', size='x-large')\n",
        "  axes[1].set_xticklabels(axes[1].get_xticklabels(), rotation=60, ha='right')\n",
        "  [ax.grid(True, alpha=.2) for ax in axes]\n",
        "  [ax.set_xlabel(None) for ax in axes]"
      ],
      "metadata": {
        "id": "I1zdmO1aW2Z2"
      },
      "execution_count": null,
      "outputs": []
    },
    {
      "cell_type": "code",
      "source": [
        "print(max(df['price']))\n",
        "print(min(df['price']))\n",
        "custom_plot(df, x='event_type', y='price', title='Price (PowerTransform + Scale + Clip)', showmeans=True)"
      ],
      "metadata": {
        "colab": {
          "base_uri": "https://localhost:8080/",
          "height": 1000
        },
        "id": "sB5OA11CXiLd",
        "outputId": "2969cae1-864b-493a-a46b-141f59e5a524"
      },
      "execution_count": null,
      "outputs": [
        {
          "output_type": "stream",
          "name": "stdout",
          "text": [
            "307.6\n",
            "-79.37\n"
          ]
        },
        {
          "output_type": "display_data",
          "data": {
            "text/plain": [
              "<Figure size 2400x1600 with 2 Axes>"
            ],
            "image/png": "[encoded data removed]"
          },
          "metadata": {}
        }
      ]
    },
    {
      "cell_type": "code",
      "source": [
        "print(max(df['price_']))\n",
        "print(min(df['price_']))\n",
        "custom_plot(df, x='event_type', y='price_', title='Price (PowerTransform + Scale + Clip)', showmeans=True)"
      ],
      "metadata": {
        "colab": {
          "base_uri": "https://localhost:8080/",
          "height": 1000
        },
        "id": "oK_8ip9qWMAI",
        "outputId": "2bcde763-fa57-40b4-c0e0-48d9abba1561"
      },
      "execution_count": null,
      "outputs": [
        {
          "output_type": "stream",
          "name": "stdout",
          "text": [
            "14.76\n",
            "-5.5600000000000005\n"
          ]
        },
        {
          "output_type": "display_data",
          "data": {
            "text/plain": [
              "<Figure size 2400x1600 with 2 Axes>"
            ],
            "image/png": "[encoded data removed]"
          },
          "metadata": {}
        }
      ]
    },
    {
      "cell_type": "code",
      "source": [],
      "metadata": {
        "id": "nJLdT0NaX4jz"
      },
      "execution_count": null,
      "outputs": []
    },
    {
      "cell_type": "code",
      "source": [
        "df[df['price_']<0]"
      ],
      "metadata": {
        "colab": {
          "base_uri": "https://localhost:8080/",
          "height": 331
        },
        "id": "ojZgt1IhNPp7",
        "outputId": "49787d3e-cb83-4fc1-c316-e2f42d7c24a7"
      },
      "execution_count": null,
      "outputs": [
        {
          "output_type": "execute_result",
          "data": {
            "text/plain": [
              "                 event_time event_type  product_id          category_id  \\\n",
              "73174   2019-11-01 15:36:23   purchase     5716855  1487580014042939619   \n",
              "330623  2019-11-03 18:47:04   purchase     5716859  1487580014042939619   \n",
              "408236  2019-11-04 11:54:29   purchase     5670257  1487580014042939619   \n",
              "408237  2019-11-04 11:54:29   purchase     5716857  1487580014042939619   \n",
              "706884  2019-11-06 11:51:26   purchase     5670257  1487580014042939619   \n",
              "749942  2019-11-06 17:31:51   purchase     5716861  1487580014042939619   \n",
              "749943  2019-11-06 17:31:51   purchase     5670257  1487580014042939619   \n",
              "1372173 2019-11-10 20:16:38   purchase     5716857  1487580014042939619   \n",
              "2310273 2019-11-18 07:06:17   purchase     5716857  1487580014042939619   \n",
              "\n",
              "        category_code brand  price    user_id  \\\n",
              "73174             NaN   NaN  -7.94  566480066   \n",
              "330623            NaN   NaN -47.62  567194545   \n",
              "408236            NaN   NaN -15.87  516725846   \n",
              "408237            NaN   NaN -23.81  516725846   \n",
              "706884            NaN   NaN -15.87  568159131   \n",
              "749942            NaN   NaN -79.37  554241372   \n",
              "749943            NaN   NaN -15.87  554241372   \n",
              "1372173           NaN   NaN -23.81  549736485   \n",
              "2310273           NaN   NaN -23.81  565309368   \n",
              "\n",
              "                                 user_session  price_  \n",
              "73174    34fa4291-9e2e-470f-a678-b84d9bbbdfe3   -5.56  \n",
              "330623   fd27b149-3006-41cd-8afc-884c47272e5d   -5.56  \n",
              "408236   26e74f0c-762a-4162-b807-72a3e7bfa015   -5.56  \n",
              "408237   26e74f0c-762a-4162-b807-72a3e7bfa015   -5.56  \n",
              "706884   8edce83b-2d4c-4654-89e6-16234303031c   -5.56  \n",
              "749942   b85719db-2c56-460b-b800-d7a47d4c4d70   -5.56  \n",
              "749943   b85719db-2c56-460b-b800-d7a47d4c4d70   -5.56  \n",
              "1372173  d1acbc83-3876-4317-a00f-6c60800f4572   -5.56  \n",
              "2310273  47af9baa-94af-4334-a4ac-514230ddfa9c   -5.56  "
            ],
            "text/html": [
              "\n",
              "  <div id=\"df-70bc6832-3f4a-430a-9100-b6feb8c4367a\">\n",
              "    <div class=\"colab-df-container\">\n",
              "      <div>\n",
              "<style scoped>\n",
              "    .dataframe tbody tr th:only-of-type {\n",
              "        vertical-align: middle;\n",
              "    }\n",
              "\n",
              "    .dataframe tbody tr th {\n",
              "        vertical-align: top;\n",
              "    }\n",
              "\n",
              "    .dataframe thead th {\n",
              "        text-align: right;\n",
              "    }\n",
              "</style>\n",
              "<table border=\"1\" class=\"dataframe\">\n",
              "  <thead>\n",
              "    <tr style=\"text-align: right;\">\n",
              "      <th></th>\n",
              "      <th>event_time</th>\n",
              "      <th>event_type</th>\n",
              "      <th>product_id</th>\n",
              "      <th>category_id</th>\n",
              "      <th>category_code</th>\n",
              "      <th>brand</th>\n",
              "      <th>price</th>\n",
              "      <th>user_id</th>\n",
              "      <th>user_session</th>\n",
              "      <th>price_</th>\n",
              "    </tr>\n",
              "  </thead>\n",
              "  <tbody>\n",
              "    <tr>\n",
              "      <th>73174</th>\n",
              "      <td>2019-11-01 15:36:23</td>\n",
              "      <td>purchase</td>\n",
              "      <td>5716855</td>\n",
              "      <td>1487580014042939619</td>\n",
              "      <td>NaN</td>\n",
              "      <td>NaN</td>\n",
              "      <td>-7.94</td>\n",
              "      <td>566480066</td>\n",
              "      <td>34fa4291-9e2e-470f-a678-b84d9bbbdfe3</td>\n",
              "      <td>-5.56</td>\n",
              "    </tr>\n",
              "    <tr>\n",
              "      <th>330623</th>\n",
              "      <td>2019-11-03 18:47:04</td>\n",
              "      <td>purchase</td>\n",
              "      <td>5716859</td>\n",
              "      <td>1487580014042939619</td>\n",
              "      <td>NaN</td>\n",
              "      <td>NaN</td>\n",
              "      <td>-47.62</td>\n",
              "      <td>567194545</td>\n",
              "      <td>fd27b149-3006-41cd-8afc-884c47272e5d</td>\n",
              "      <td>-5.56</td>\n",
              "    </tr>\n",
              "    <tr>\n",
              "      <th>408236</th>\n",
              "      <td>2019-11-04 11:54:29</td>\n",
              "      <td>purchase</td>\n",
              "      <td>5670257</td>\n",
              "      <td>1487580014042939619</td>\n",
              "      <td>NaN</td>\n",
              "      <td>NaN</td>\n",
              "      <td>-15.87</td>\n",
              "      <td>516725846</td>\n",
              "      <td>26e74f0c-762a-4162-b807-72a3e7bfa015</td>\n",
              "      <td>-5.56</td>\n",
              "    </tr>\n",
              "    <tr>\n",
              "      <th>408237</th>\n",
              "      <td>2019-11-04 11:54:29</td>\n",
              "      <td>purchase</td>\n",
              "      <td>5716857</td>\n",
              "      <td>1487580014042939619</td>\n",
              "      <td>NaN</td>\n",
              "      <td>NaN</td>\n",
              "      <td>-23.81</td>\n",
              "      <td>516725846</td>\n",
              "      <td>26e74f0c-762a-4162-b807-72a3e7bfa015</td>\n",
              "      <td>-5.56</td>\n",
              "    </tr>\n",
              "    <tr>\n",
              "      <th>706884</th>\n",
              "      <td>2019-11-06 11:51:26</td>\n",
              "      <td>purchase</td>\n",
              "      <td>5670257</td>\n",
              "      <td>1487580014042939619</td>\n",
              "      <td>NaN</td>\n",
              "      <td>NaN</td>\n",
              "      <td>-15.87</td>\n",
              "      <td>568159131</td>\n",
              "      <td>8edce83b-2d4c-4654-89e6-16234303031c</td>\n",
              "      <td>-5.56</td>\n",
              "    </tr>\n",
              "    <tr>\n",
              "      <th>749942</th>\n",
              "      <td>2019-11-06 17:31:51</td>\n",
              "      <td>purchase</td>\n",
              "      <td>5716861</td>\n",
              "      <td>1487580014042939619</td>\n",
              "      <td>NaN</td>\n",
              "      <td>NaN</td>\n",
              "      <td>-79.37</td>\n",
              "      <td>554241372</td>\n",
              "      <td>b85719db-2c56-460b-b800-d7a47d4c4d70</td>\n",
              "      <td>-5.56</td>\n",
              "    </tr>\n",
              "    <tr>\n",
              "      <th>749943</th>\n",
              "      <td>2019-11-06 17:31:51</td>\n",
              "      <td>purchase</td>\n",
              "      <td>5670257</td>\n",
              "      <td>1487580014042939619</td>\n",
              "      <td>NaN</td>\n",
              "      <td>NaN</td>\n",
              "      <td>-15.87</td>\n",
              "      <td>554241372</td>\n",
              "      <td>b85719db-2c56-460b-b800-d7a47d4c4d70</td>\n",
              "      <td>-5.56</td>\n",
              "    </tr>\n",
              "    <tr>\n",
              "      <th>1372173</th>\n",
              "      <td>2019-11-10 20:16:38</td>\n",
              "      <td>purchase</td>\n",
              "      <td>5716857</td>\n",
              "      <td>1487580014042939619</td>\n",
              "      <td>NaN</td>\n",
              "      <td>NaN</td>\n",
              "      <td>-23.81</td>\n",
              "      <td>549736485</td>\n",
              "      <td>d1acbc83-3876-4317-a00f-6c60800f4572</td>\n",
              "      <td>-5.56</td>\n",
              "    </tr>\n",
              "    <tr>\n",
              "      <th>2310273</th>\n",
              "      <td>2019-11-18 07:06:17</td>\n",
              "      <td>purchase</td>\n",
              "      <td>5716857</td>\n",
              "      <td>1487580014042939619</td>\n",
              "      <td>NaN</td>\n",
              "      <td>NaN</td>\n",
              "      <td>-23.81</td>\n",
              "      <td>565309368</td>\n",
              "      <td>47af9baa-94af-4334-a4ac-514230ddfa9c</td>\n",
              "      <td>-5.56</td>\n",
              "    </tr>\n",
              "  </tbody>\n",
              "</table>\n",
              "</div>\n",
              "      <button class=\"colab-df-convert\" onclick=\"convertToInteractive('df-70bc6832-3f4a-430a-9100-b6feb8c4367a')\"\n",
              "              title=\"Convert this dataframe to an interactive table.\"\n",
              "              style=\"display:none;\">\n",
              "        \n",
              "  <svg xmlns=\"http://www.w3.org/2000/svg\" height=\"24px\"viewBox=\"0 0 24 24\"\n",
              "       width=\"24px\">\n",
              "    <path d=\"M0 0h24v24H0V0z\" fill=\"none\"/>\n",
              "    <path d=\"M18.56 5.44l.94 2.06.94-2.06 2.06-.94-2.06-.94-.94-2.06-.94 2.06-2.06.94zm-11 1L8.5 8.5l.94-2.06 2.06-.94-2.06-.94L8.5 2.5l-.94 2.06-2.06.94zm10 10l.94 2.06.94-2.06 2.06-.94-2.06-.94-.94-2.06-.94 2.06-2.06.94z\"/><path d=\"M17.41 7.96l-1.37-1.37c-.4-.4-.92-.59-1.43-.59-.52 0-1.04.2-1.43.59L10.3 9.45l-7.72 7.72c-.78.78-.78 2.05 0 2.83L4 21.41c.39.39.9.59 1.41.59.51 0 1.02-.2 1.41-.59l7.78-7.78 2.81-2.81c.8-.78.8-2.07 0-2.86zM5.41 20L4 18.59l7.72-7.72 1.47 1.35L5.41 20z\"/>\n",
              "  </svg>\n",
              "      </button>\n",
              "      \n",
              "  <style>\n",
              "    .colab-df-container {\n",
              "      display:flex;\n",
              "      flex-wrap:wrap;\n",
              "      gap: 12px;\n",
              "    }\n",
              "\n",
              "    .colab-df-convert {\n",
              "      background-color: #E8F0FE;\n",
              "      border: none;\n",
              "      border-radius: 50%;\n",
              "      cursor: pointer;\n",
              "      display: none;\n",
              "      fill: #1967D2;\n",
              "      height: 32px;\n",
              "      padding: 0 0 0 0;\n",
              "      width: 32px;\n",
              "    }\n",
              "\n",
              "    .colab-df-convert:hover {\n",
              "      background-color: #E2EBFA;\n",
              "      box-shadow: 0px 1px 2px rgba(60, 64, 67, 0.3), 0px 1px 3px 1px rgba(60, 64, 67, 0.15);\n",
              "      fill: #174EA6;\n",
              "    }\n",
              "\n",
              "    [theme=dark] .colab-df-convert {\n",
              "      background-color: #3B4455;\n",
              "      fill: #D2E3FC;\n",
              "    }\n",
              "\n",
              "    [theme=dark] .colab-df-convert:hover {\n",
              "      background-color: #434B5C;\n",
              "      box-shadow: 0px 1px 3px 1px rgba(0, 0, 0, 0.15);\n",
              "      filter: drop-shadow(0px 1px 2px rgba(0, 0, 0, 0.3));\n",
              "      fill: #FFFFFF;\n",
              "    }\n",
              "  </style>\n",
              "\n",
              "      <script>\n",
              "        const buttonEl =\n",
              "          document.querySelector('#df-70bc6832-3f4a-430a-9100-b6feb8c4367a button.colab-df-convert');\n",
              "        buttonEl.style.display =\n",
              "          google.colab.kernel.accessAllowed ? 'block' : 'none';\n",
              "\n",
              "        async function convertToInteractive(key) {\n",
              "          const element = document.querySelector('#df-70bc6832-3f4a-430a-9100-b6feb8c4367a');\n",
              "          const dataTable =\n",
              "            await google.colab.kernel.invokeFunction('convertToInteractive',\n",
              "                                                     [key], {});\n",
              "          if (!dataTable) return;\n",
              "\n",
              "          const docLinkHtml = 'Like what you see? Visit the ' +\n",
              "            '<a target=\"_blank\" href=https://colab.research.google.com/notebooks/data_table.ipynb>data table notebook</a>'\n",
              "            + ' to learn more about interactive tables.';\n",
              "          element.innerHTML = '';\n",
              "          dataTable['output_type'] = 'display_data';\n",
              "          await google.colab.output.renderOutput(dataTable, element);\n",
              "          const docLink = document.createElement('div');\n",
              "          docLink.innerHTML = docLinkHtml;\n",
              "          element.appendChild(docLink);\n",
              "        }\n",
              "      </script>\n",
              "    </div>\n",
              "  </div>\n",
              "  "
            ]
          },
          "metadata": {},
          "execution_count": 67
        }
      ]
    },
    {
      "cell_type": "code",
      "source": [],
      "metadata": {
        "id": "80po-XvELzDS"
      },
      "execution_count": null,
      "outputs": []
    },
    {
      "cell_type": "code",
      "source": [],
      "metadata": {
        "id": "D-grLmY8LxMb"
      },
      "execution_count": null,
      "outputs": []
    }
  ]
}